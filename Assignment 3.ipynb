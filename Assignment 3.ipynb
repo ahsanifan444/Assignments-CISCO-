{
 "cells": [
  {
   "cell_type": "markdown",
   "metadata": {},
   "source": [
    "# Question 01"
   ]
  },
  {
   "cell_type": "code",
   "execution_count": 4,
   "metadata": {},
   "outputs": [
    {
     "name": "stdout",
     "output_type": "stream",
     "text": [
      "Enter First Number  15\n",
      "Enter Second Number  5\n",
      "\n",
      "\n",
      "Addition of two numbers is: 20\n",
      "Subtraction of two numbers is: 10\n",
      "Multiplication of two numbers is: 75\n",
      "Division of two numbers is: 3.0\n",
      "Power of two numbers is: 759375\n"
     ]
    }
   ],
   "source": [
    "a=int(input(\"Enter First Number  \"))\n",
    "b=int(input(\"Enter Second Number  \"))\n",
    "\n",
    "add=str(a+b)\n",
    "sub=str(a-b)\n",
    "mul=str(a*b)\n",
    "div=str(a/b)\n",
    "power=str(a**b)\n",
    "print(\"\\n\")\n",
    "print(\"Addition of two numbers is: \" +add)\n",
    "print(\"Subtraction of two numbers is: \" +sub)\n",
    "print(\"Multiplication of two numbers is: \" +mul)\n",
    "print(\"Division of two numbers is: \" +div)\n",
    "print(\"Power of two numbers is: \" +power)\n"
   ]
  },
  {
   "cell_type": "markdown",
   "metadata": {},
   "source": [
    "# Question 02"
   ]
  },
  {
   "cell_type": "code",
   "execution_count": 46,
   "metadata": {},
   "outputs": [
    {
     "name": "stdout",
     "output_type": "stream",
     "text": [
      "Element is not integer\n",
      "Element is integer\n",
      "Element is not integer\n",
      "Element is integer\n",
      "Element is not integer\n",
      "Element is integer\n"
     ]
    }
   ],
   "source": [
    "list1 = [ \"Ahsan\", 5, \"Dua\", 45, \"Bilal\", 9 ] \n",
    "\n",
    "for i in list1: \n",
    "    if i == str(i):\n",
    "        print (\"Element is not integer\") \n",
    "    else:\n",
    "        print (\"Element is integer\")"
   ]
  },
  {
   "cell_type": "markdown",
   "metadata": {},
   "source": [
    "# Question 03"
   ]
  },
  {
   "cell_type": "code",
   "execution_count": 53,
   "metadata": {},
   "outputs": [
    {
     "data": {
      "text/plain": [
       "{'a': 1, 'b': 2, 'c': 3, 'd': 4}"
      ]
     },
     "execution_count": 53,
     "metadata": {},
     "output_type": "execute_result"
    }
   ],
   "source": [
    "dic={'a':1,'b':2,'c':3}\n",
    "\n",
    "dic['d']=4\n",
    "dic"
   ]
  },
  {
   "cell_type": "markdown",
   "metadata": {},
   "source": [
    "# Question 04"
   ]
  },
  {
   "cell_type": "code",
   "execution_count": 8,
   "metadata": {},
   "outputs": [
    {
     "name": "stdout",
     "output_type": "stream",
     "text": [
      "Sum : 6\n"
     ]
    }
   ],
   "source": [
    "dic={'a':1,'b':2,'c':3}\n",
    "\n",
    "def abc(dic): \n",
    "      \n",
    "     sum = 0\n",
    "     for i in dic.values(): \n",
    "           sum = sum + i \n",
    "       \n",
    "     return sum\n",
    "  \n",
    "print(\"Sum :\", abc(dic)) "
   ]
  },
  {
   "cell_type": "markdown",
   "metadata": {},
   "source": [
    "# Question 05"
   ]
  },
  {
   "cell_type": "code",
   "execution_count": 11,
   "metadata": {},
   "outputs": [
    {
     "name": "stdout",
     "output_type": "stream",
     "text": [
      "[2, 4, 10, 20, 5]\n"
     ]
    }
   ],
   "source": [
    "a = [2, 4, 10, 20, 5, 2, 20, 4] \n",
    "\n",
    "def abc(a): \n",
    "    final_list = [] \n",
    "    for num in a: \n",
    "        if num not in final_list: \n",
    "            final_list.append(num) \n",
    "    return final_list \n",
    "      \n",
    "print(abc(a)) "
   ]
  },
  {
   "cell_type": "markdown",
   "metadata": {},
   "source": [
    "# Question 06"
   ]
  },
  {
   "cell_type": "code",
   "execution_count": 16,
   "metadata": {},
   "outputs": [
    {
     "name": "stdout",
     "output_type": "stream",
     "text": [
      "Enter key to check:a\n",
      "Key is present and value of the key is:\n",
      "1\n"
     ]
    }
   ],
   "source": [
    "dic={'a':1,'b':2,'c':3}\n",
    "\n",
    "key=input(\"Enter key to check:\")\n",
    "if key in dic.keys():\n",
    "      print(\"Key is present and value of the key is:\")\n",
    "      print(dic[key])\n",
    "else:\n",
    "      print(\"Key isn't present!\")"
   ]
  },
  {
   "cell_type": "code",
   "execution_count": null,
   "metadata": {},
   "outputs": [],
   "source": []
  }
 ],
 "metadata": {
  "kernelspec": {
   "display_name": "Python 3",
   "language": "python",
   "name": "python3"
  },
  "language_info": {
   "codemirror_mode": {
    "name": "ipython",
    "version": 3
   },
   "file_extension": ".py",
   "mimetype": "text/x-python",
   "name": "python",
   "nbconvert_exporter": "python",
   "pygments_lexer": "ipython3",
   "version": "3.7.4"
  }
 },
 "nbformat": 4,
 "nbformat_minor": 2
}
