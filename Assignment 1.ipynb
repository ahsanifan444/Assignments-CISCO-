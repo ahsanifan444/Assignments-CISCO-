{
 "cells": [
  {
   "cell_type": "markdown",
   "metadata": {},
   "source": [
    "\n",
    "# Question 1"
   ]
  },
  {
   "cell_type": "code",
   "execution_count": 8,
   "metadata": {},
   "outputs": [
    {
     "name": "stdout",
     "output_type": "stream",
     "text": [
      "Twinkle, twinkle, little star,\n",
      " \t How I wonder what you are! \n",
      " \t \t Up above the world so high,\n",
      " \t \t Like a diamond in the sky. \n",
      " Twinkle, twinkle, little star, \n",
      " \tHow I wonder what you are\n"
     ]
    }
   ],
   "source": [
    "print(\"Twinkle, twinkle, little star,\\n \\t How I wonder what you are! \\n \\t \\t Up above the world so high,\\n \\t \\t Like a diamond in the sky. \\n Twinkle, twinkle, little star, \\n \\tHow I wonder what you are\")"
   ]
  },
  {
   "cell_type": "markdown",
   "metadata": {},
   "source": [
    "# Question 2"
   ]
  },
  {
   "cell_type": "code",
   "execution_count": 3,
   "metadata": {},
   "outputs": [
    {
     "name": "stdout",
     "output_type": "stream",
     "text": [
      "3.7.4 (default, Aug 13 2019, 20:35:49) \n",
      "[GCC 7.3.0]\n"
     ]
    }
   ],
   "source": [
    "import sys\n",
    "print(sys.version)"
   ]
  },
  {
   "cell_type": "markdown",
   "metadata": {},
   "source": [
    "# Question 3"
   ]
  },
  {
   "cell_type": "code",
   "execution_count": 5,
   "metadata": {},
   "outputs": [
    {
     "name": "stdout",
     "output_type": "stream",
     "text": [
      "now = 2019-11-22 19:15:51.969118\n"
     ]
    }
   ],
   "source": [
    "from datetime import datetime\n",
    "\n",
    "now = datetime.now()\n",
    " \n",
    "print(\"now =\", now)"
   ]
  },
  {
   "cell_type": "markdown",
   "metadata": {},
   "source": [
    "# Question 4"
   ]
  },
  {
   "cell_type": "code",
   "execution_count": 19,
   "metadata": {},
   "outputs": [
    {
     "name": "stdout",
     "output_type": "stream",
     "text": [
      "Enter Radius of a circle  15\n",
      "Area of a circle is :706.858335\n"
     ]
    }
   ],
   "source": [
    "r=float(input(\"Enter Radius of a circle  \"))\n",
    "a=str(3.1415926*r**2)\n",
    "print (\"Area of a circle is :\" +a)"
   ]
  },
  {
   "cell_type": "markdown",
   "metadata": {},
   "source": [
    "# Question 5"
   ]
  },
  {
   "cell_type": "code",
   "execution_count": 24,
   "metadata": {},
   "outputs": [
    {
     "name": "stdout",
     "output_type": "stream",
     "text": [
      "Enter your first name  Ahsan\n",
      "Enter your last name  Irfan\n",
      "Your name in reverse order :Irfan Ahsan\n"
     ]
    }
   ],
   "source": [
    "first = input(\"Enter your first name  \")\n",
    "last = input(\"Enter your last name  \")\n",
    "\n",
    "res = last +\" \"+ first\n",
    "print(\"Your name in reverse order :\" +res )"
   ]
  },
  {
   "cell_type": "markdown",
   "metadata": {},
   "source": [
    "# Question 6"
   ]
  },
  {
   "cell_type": "code",
   "execution_count": 28,
   "metadata": {},
   "outputs": [
    {
     "name": "stdout",
     "output_type": "stream",
     "text": [
      "Enter your first number  15\n",
      "Enter your second number  15\n",
      "The addition of given number is: 30\n"
     ]
    }
   ],
   "source": [
    "first = int(input(\"Enter your first number  \"))\n",
    "second = int(input(\"Enter your second number  \"))\n",
    "addition = str(first+second)\n",
    "print(\"The addition of given number is: \" +addition)"
   ]
  },
  {
   "cell_type": "code",
   "execution_count": null,
   "metadata": {},
   "outputs": [],
   "source": []
  }
 ],
 "metadata": {
  "kernelspec": {
   "display_name": "Python 3",
   "language": "python",
   "name": "python3"
  },
  "language_info": {
   "codemirror_mode": {
    "name": "ipython",
    "version": 3
   },
   "file_extension": ".py",
   "mimetype": "text/x-python",
   "name": "python",
   "nbconvert_exporter": "python",
   "pygments_lexer": "ipython3",
   "version": "3.7.4"
  }
 },
 "nbformat": 4,
 "nbformat_minor": 2
}
