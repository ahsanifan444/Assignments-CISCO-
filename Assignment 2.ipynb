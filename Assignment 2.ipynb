{
 "cells": [
  {
   "cell_type": "markdown",
   "metadata": {},
   "source": [
    "# Mark sheet"
   ]
  },
  {
   "cell_type": "code",
   "execution_count": 17,
   "metadata": {},
   "outputs": [
    {
     "name": "stdout",
     "output_type": "stream",
     "text": [
      "Enter English Number  85\n",
      "Enter Maths Number  15\n",
      "Enter Urdu Number  85\n",
      "Enter computer Number  35\n",
      "Enter science Number  65\n",
      "Your Grade is C+\n"
     ]
    }
   ],
   "source": [
    "a=input(\"Enter English Number  \")\n",
    "b=input(\"Enter Maths Number  \")\n",
    "c=input(\"Enter Urdu Number  \")\n",
    "d=input(\"Enter computer Number  \")\n",
    "e=input(\"Enter science Number  \")\n",
    "f=float(a)+float(b)+float(c)+float(d)+float(e)\n",
    "float(f)\n",
    "\n",
    "average = f/5;\n",
    "if(average>=91 and average<=100):\n",
    "    print(\"Your Grade is A+\");\n",
    "elif(average>=81 and average<=90):\n",
    "    print(\"Your Grade is A\");\n",
    "elif(average>=71 and average<=80):\n",
    "    print(\"Your Grade is B+\");\n",
    "elif(average>=61 and average<=70):\n",
    "    print(\"Your Grade is B\");\n",
    "elif(average>=51 and average<=60):\n",
    "    print(\"Your Grade is C+\");\n",
    "elif(average>=41 and average<=50):\n",
    "    print(\"Your Grade is C\");\n",
    "elif(average>=0 and average<=40):\n",
    "    print(\"Your Grade is F\");\n",
    "else:\n",
    "    print(\"Strange Grade..!!\");"
   ]
  },
  {
   "cell_type": "markdown",
   "metadata": {},
   "source": [
    "# Odd or Even"
   ]
  },
  {
   "cell_type": "code",
   "execution_count": 19,
   "metadata": {},
   "outputs": [
    {
     "name": "stdout",
     "output_type": "stream",
     "text": [
      "Enter any number14\n",
      "This is even number\n"
     ]
    }
   ],
   "source": [
    "a = int(input(\"Enter any number\"))\n",
    "if a%2==1:\n",
    "    print(\"This is odd number\")\n",
    "else:\n",
    "    print(\"This is even number\")"
   ]
  },
  {
   "cell_type": "markdown",
   "metadata": {},
   "source": [
    "# Length of list"
   ]
  },
  {
   "cell_type": "code",
   "execution_count": 20,
   "metadata": {},
   "outputs": [
    {
     "data": {
      "text/plain": [
       "5"
      ]
     },
     "execution_count": 20,
     "metadata": {},
     "output_type": "execute_result"
    }
   ],
   "source": [
    "a =[2,\"ahsan\",\"bilal\",\"ahmed\",\"ali\"]\n",
    "len(a)"
   ]
  },
  {
   "cell_type": "code",
   "execution_count": 22,
   "metadata": {},
   "outputs": [
    {
     "name": "stdout",
     "output_type": "stream",
     "text": [
      "165\n"
     ]
    }
   ],
   "source": [
    "a =[2,3,5,95,45,15]\n",
    "\n",
    "b = sum(a)\n",
    "print (b)"
   ]
  },
  {
   "cell_type": "markdown",
   "metadata": {},
   "source": [
    "# largest number"
   ]
  },
  {
   "cell_type": "code",
   "execution_count": 24,
   "metadata": {},
   "outputs": [
    {
     "name": "stdout",
     "output_type": "stream",
     "text": [
      "Largest element is: 95\n"
     ]
    }
   ],
   "source": [
    "a =[2,3,5,95,45,15]\n",
    "a.sort() \n",
    "  \n",
    "print(\"Largest element is:\", a[-1]) "
   ]
  },
  {
   "cell_type": "code",
   "execution_count": 30,
   "metadata": {},
   "outputs": [
    {
     "data": {
      "text/plain": [
       "[8, 13, 21, 34, 55, 89]"
      ]
     },
     "execution_count": 30,
     "metadata": {},
     "output_type": "execute_result"
    }
   ],
   "source": [
    "a = [1, 1, 2, 3, 5, 8, 13, 21, 34, 55, 89]\n",
    "\n",
    "[number for number in a if number > 5]"
   ]
  },
  {
   "cell_type": "code",
   "execution_count": null,
   "metadata": {},
   "outputs": [],
   "source": []
  }
 ],
 "metadata": {
  "kernelspec": {
   "display_name": "Python 3",
   "language": "python",
   "name": "python3"
  },
  "language_info": {
   "codemirror_mode": {
    "name": "ipython",
    "version": 3
   },
   "file_extension": ".py",
   "mimetype": "text/x-python",
   "name": "python",
   "nbconvert_exporter": "python",
   "pygments_lexer": "ipython3",
   "version": "3.7.4"
  }
 },
 "nbformat": 4,
 "nbformat_minor": 2
}
