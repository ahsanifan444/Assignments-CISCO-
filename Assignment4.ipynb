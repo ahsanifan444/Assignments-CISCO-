{
 "cells": [
  {
   "cell_type": "markdown",
   "metadata": {},
   "source": [
    "# Question No.1"
   ]
  },
  {
   "cell_type": "markdown",
   "metadata": {},
   "source": [
    "Use a dictionary to store information about a person you know. Store their first name, last name, age,\n",
    "and the city in which they live. You should have keys such as first_name, last_name, age, and city. Print\n",
    "each piece of information stored in your dictionary. Add a new key value pair about qualification then\n",
    "update the qualification value to high academic level then delete it."
   ]
  },
  {
   "cell_type": "markdown",
   "metadata": {},
   "source": [
    "# Creating Dictionary"
   ]
  },
  {
   "cell_type": "code",
   "execution_count": 31,
   "metadata": {},
   "outputs": [],
   "source": [
    "person = {\n",
    "    'first_name': 'Murtaza',\n",
    "    'last_name': 'Ali',\n",
    "    'age': 23,\n",
    "    'city': 'Karachi',\n",
    "    }\n",
    "\n"
   ]
  },
  {
   "cell_type": "code",
   "execution_count": 32,
   "metadata": {},
   "outputs": [
    {
     "name": "stdout",
     "output_type": "stream",
     "text": [
      "First Name is Murtaza\n",
      "Last Name is Ali\n",
      "Age is  23\n",
      "City Name is Karachi\n"
     ]
    }
   ],
   "source": [
    "print(\"First Name is \" + person['first_name'])\n",
    "print(\"Last Name is \" +person['last_name'])\n",
    "print(\"Age is \", person['age'])\n",
    "print(\"City Name is \" + person['city'])"
   ]
  },
  {
   "cell_type": "markdown",
   "metadata": {},
   "source": [
    "# Add Key in Dictionary"
   ]
  },
  {
   "cell_type": "code",
   "execution_count": 33,
   "metadata": {},
   "outputs": [],
   "source": [
    "if 'qualification' not in person.keys():\n",
    "    person['qualification'] = \"Intermediate\""
   ]
  },
  {
   "cell_type": "code",
   "execution_count": 34,
   "metadata": {},
   "outputs": [
    {
     "name": "stdout",
     "output_type": "stream",
     "text": [
      "Qualification is Intermediate\n"
     ]
    }
   ],
   "source": [
    "print(\"Qualification is \" + person['qualification'])"
   ]
  },
  {
   "cell_type": "code",
   "execution_count": 35,
   "metadata": {},
   "outputs": [
    {
     "data": {
      "text/plain": [
       "{'first_name': 'Murtaza',\n",
       " 'last_name': 'Ali',\n",
       " 'age': 23,\n",
       " 'city': 'Karachi',\n",
       " 'qualification': 'Intermediate'}"
      ]
     },
     "execution_count": 35,
     "metadata": {},
     "output_type": "execute_result"
    }
   ],
   "source": [
    "person"
   ]
  },
  {
   "cell_type": "markdown",
   "metadata": {},
   "source": [
    "# Update Key in Dictionary"
   ]
  },
  {
   "cell_type": "code",
   "execution_count": 36,
   "metadata": {},
   "outputs": [],
   "source": [
    "person['qualification'] = \"Graduation\""
   ]
  },
  {
   "cell_type": "code",
   "execution_count": 37,
   "metadata": {},
   "outputs": [
    {
     "name": "stdout",
     "output_type": "stream",
     "text": [
      "{'first_name': 'Murtaza', 'last_name': 'Ali', 'age': 23, 'city': 'Karachi', 'qualification': 'Graduation'}\n"
     ]
    }
   ],
   "source": [
    "print(person)"
   ]
  },
  {
   "cell_type": "markdown",
   "metadata": {},
   "source": [
    "# Deleting Key from Dictionary"
   ]
  },
  {
   "cell_type": "code",
   "execution_count": 38,
   "metadata": {},
   "outputs": [],
   "source": [
    "del person['qualification']"
   ]
  },
  {
   "cell_type": "code",
   "execution_count": 39,
   "metadata": {},
   "outputs": [
    {
     "data": {
      "text/plain": [
       "{'first_name': 'Murtaza', 'last_name': 'Ali', 'age': 23, 'city': 'Karachi'}"
      ]
     },
     "execution_count": 39,
     "metadata": {},
     "output_type": "execute_result"
    }
   ],
   "source": [
    "person"
   ]
  },
  {
   "cell_type": "markdown",
   "metadata": {},
   "source": [
    "# Question No.2"
   ]
  },
  {
   "cell_type": "markdown",
   "metadata": {},
   "source": [
    "Make a dictionary called cities. Use the names of three cities as keys in your dictionary. Create a\n",
    "dictionary of information about each city and include the country that the city is in, its approximate\n",
    "population, and one fact about that city. The keys for each city’s dictionary should be something like\n",
    "country, population, and fact. Print the name of each city and all of the information you have stored\n",
    "about it."
   ]
  },
  {
   "cell_type": "code",
   "execution_count": 46,
   "metadata": {},
   "outputs": [
    {
     "name": "stdout",
     "output_type": "stream",
     "text": [
      "\n",
      "Karachi is City of Pakistan.\n",
      "  It has a population of about 15000000.\n",
      "The fact about Karachi is City Of Lights\n",
      "\n",
      "London is City of England.\n",
      "  It has a population of about 89000000.\n",
      "The fact about London is Big Ben\n",
      "\n",
      "New York is City of America.\n",
      "  It has a population of about 86000000.\n",
      "The fact about New York is Statue Of Liberty\n"
     ]
    }
   ],
   "source": [
    "cities = {\n",
    "    'Karachi': {\n",
    "        'country': 'Pakistan',\n",
    "        'population': 15000000,\n",
    "        'fact about': 'City of Lights',\n",
    "        },\n",
    "    'London': {\n",
    "        'country': 'England',\n",
    "        'population': 89000000,\n",
    "        'fact about': 'Big Ben',\n",
    "        },\n",
    "    'New York': {\n",
    "        'country': 'America',\n",
    "        'population': 86000000,\n",
    "        'fact about': 'Statue of Liberty',\n",
    "        }\n",
    "    }\n",
    "\n",
    "for city, city_info in cities.items():\n",
    "    country = city_info['country'].title()\n",
    "    population = city_info['population']\n",
    "    fact = city_info['fact about'].title()\n",
    "\n",
    "    print(\"\\n\" + city.title() + \" is City of \" + country + \".\")\n",
    "    print(\"  It has a population of about \" + str(population) + \".\")\n",
    "    print(\"The fact about \" + city.title() + \" is \" + fact)"
   ]
  },
  {
   "cell_type": "markdown",
   "metadata": {},
   "source": [
    "# Question No.3"
   ]
  },
  {
   "cell_type": "markdown",
   "metadata": {},
   "source": [
    "A movie theater charges different ticket prices depending on a person’s age. If a person is under the age\n",
    "of 3, the ticket is free; if they are between 3 and 12, the ticket is $10; and if they are over age 12, the\n",
    "ticket is $15. Write a loop in which you ask users their age, and then tell them the cost of their movie\n",
    "ticket."
   ]
  },
  {
   "cell_type": "code",
   "execution_count": 8,
   "metadata": {},
   "outputs": [
    {
     "name": "stdout",
     "output_type": "stream",
     "text": [
      "How old are you?\n",
      "Enter 'q' when you are finished. 2\n",
      "  You get in free!\n",
      "\n",
      "How old are you?\n",
      "Enter 'q' when you are finished. 5\n",
      "  Your ticket is $10.\n",
      "\n",
      "How old are you?\n",
      "Enter 'q' when you are finished. 15\n",
      "  Your ticket is $15.\n",
      "\n",
      "How old are you?\n",
      "Enter 'q' when you are finished. q\n"
     ]
    }
   ],
   "source": [
    "user = \"How old are you?\"\n",
    "user += \"\\nEnter 'q' when you are finished. \"\n",
    "\n",
    "while True:\n",
    "    age = input(user)\n",
    "    if age == 'q' :\n",
    "        break\n",
    "    age = int(age)\n",
    "\n",
    "    if age < 3:\n",
    "        print(\"  You get in free!\" + \"\\n\")\n",
    "    elif age < 13:\n",
    "        print(\"  Your ticket is $10.\" + \"\\n\")\n",
    "    else:\n",
    "        print(\"  Your ticket is $15.\" + \"\\n\")"
   ]
  },
  {
   "cell_type": "markdown",
   "metadata": {},
   "source": [
    "# Question No.4"
   ]
  },
  {
   "cell_type": "markdown",
   "metadata": {},
   "source": [
    "Write a function called favorite_book() that accepts one parameter, title. The function should print a\n",
    "message, such as One of my favorite books is Alice in Wonderland. Call the function, making sure to\n",
    "include a book title as an argument in the function call."
   ]
  },
  {
   "cell_type": "code",
   "execution_count": 4,
   "metadata": {},
   "outputs": [
    {
     "name": "stdout",
     "output_type": "stream",
     "text": [
      "The First World War is one of my favorite books.\n"
     ]
    }
   ],
   "source": [
    "def favorite_book(title):\n",
    "    print(title + \" is one of my favorite books.\")\n",
    "\n",
    "favorite_book('The First World War')"
   ]
  },
  {
   "cell_type": "markdown",
   "metadata": {},
   "source": [
    "# Question No.5"
   ]
  },
  {
   "cell_type": "markdown",
   "metadata": {},
   "source": [
    "Guess the number game\n",
    "Write a program which randomly generate a number between 1 to 30 and ask the user in input field to\n",
    "guess the correct number. Give three chances to user guess the number and also give hint to user if\n",
    "hidden number is greater or smaller than the number he given to input field."
   ]
  },
  {
   "cell_type": "code",
   "execution_count": 2,
   "metadata": {},
   "outputs": [
    {
     "name": "stdout",
     "output_type": "stream",
     "text": [
      "Hello,\n",
      "This is Guess a Number Game.\n",
      "Here are 3 Chances you have, and you can choose any number between 1 and 30.\n",
      "Now lets start the Game! What is your name?\n",
      "Ahsan Irfan\n",
      "Well, Ahsan Irfan, I am Thinking of number between 1 and 30.\n",
      "Take a guess!\n",
      "25\n",
      "Your guess number is high!\n",
      "\n",
      "\n",
      "Take a guess!\n",
      "15\n",
      "Your guess number is high!\n",
      "\n",
      "\n",
      "Take a guess!\n",
      "9\n",
      "You guess number is low!\n",
      "\n",
      "\n",
      "Take a guess!\n",
      "11\n",
      "You guess number is low!\n",
      "\n",
      "\n",
      "Take a guess!\n",
      "10\n",
      "You guess number is low!\n",
      "\n",
      "\n",
      "Take a guess!\n",
      "12\n",
      "You guess number is low!\n",
      "\n",
      "\n",
      "Your all chances are finished, the right number is 14\n"
     ]
    }
   ],
   "source": [
    "#import Library\n",
    "import random\n",
    "\n",
    "#Create variable which is used for number of chances\n",
    "guessesTaken = 0\n",
    "\n",
    "#print initial message\n",
    "print(\"Hello,\" + \"\\n\" + \"This is Guess a Number Game.\"  + \"\\n\" + \"Here are 3 Chances you have, and you can choose any number between 1 and 30.\" + \"\\n\" + \"Now lets start the Game!\" + \" What is your name?\")\n",
    "myName = input() #getting user input\n",
    "\n",
    "#creating a variable and store random values between 1 and 30\n",
    "number = random.randint(1,30)\n",
    "print(\"Well, \" + myName + \", I am Thinking of number between 1 and 30.\")\n",
    "\n",
    "#using while loop to run again and again till the end\n",
    "while guessesTaken < 6:\n",
    "    print(\"Take a guess!\")\n",
    "    guess = input()\n",
    "    guess = int(guess)\n",
    "    \n",
    "    guessesTaken = guessesTaken + 1 #increament in guesses chances\n",
    "    \n",
    "    if guess < number:\n",
    "        print(\"You guess number is low!\" + \"\\n\" + \"\\n\")\n",
    "    \n",
    "    if guess > number:\n",
    "        print(\"Your guess number is high!\" + \"\\n\" + \"\\n\")\n",
    "        \n",
    "    if guess == number:\n",
    "        print(\"\\n\")\n",
    "        break\n",
    "\n",
    "#if guess number is right\n",
    "if guess == number:\n",
    "    guessesTaken = str(guessesTaken)\n",
    "    print(\"Good Job, \" + myName + \"! You guessed my number in \" + guessesTaken + \" guesses!\")\n",
    "\n",
    "    \n",
    "#if guess number is wrong\n",
    "if guess != number:\n",
    "    number = str(number)\n",
    "    print(\"Your all chances are finished, the right number is \" + number)"
   ]
  },
  {
   "cell_type": "code",
   "execution_count": null,
   "metadata": {},
   "outputs": [],
   "source": []
  }
 ],
 "metadata": {
  "kernelspec": {
   "display_name": "Python 3",
   "language": "python",
   "name": "python3"
  },
  "language_info": {
   "codemirror_mode": {
    "name": "ipython",
    "version": 3
   },
   "file_extension": ".py",
   "mimetype": "text/x-python",
   "name": "python",
   "nbconvert_exporter": "python",
   "pygments_lexer": "ipython3",
   "version": "3.7.4"
  }
 },
 "nbformat": 4,
 "nbformat_minor": 2
}
